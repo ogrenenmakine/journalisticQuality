{
 "cells": [
  {
   "cell_type": "code",
   "execution_count": 1,
   "metadata": {},
   "outputs": [],
   "source": [
    "import pickle\n",
    "import numpy as np"
   ]
  },
  {
   "cell_type": "code",
   "execution_count": 2,
   "metadata": {},
   "outputs": [],
   "source": [
    "with open(\"data/train_x\", \"rb\") as fp:\n",
    "    train_x = pickle.load(fp)\n",
    "with open(\"data/train_ys\", \"rb\") as fp:\n",
    "    train_ys = pickle.load(fp)\n",
    "with open(\"data/train_yp\", \"rb\") as fp:\n",
    "    train_yp = pickle.load(fp)\n",
    "with open(\"data/train_yn\", \"rb\") as fp:\n",
    "    train_yn = pickle.load(fp)"
   ]
  },
  {
   "cell_type": "code",
   "execution_count": 3,
   "metadata": {},
   "outputs": [],
   "source": [
    "with open(\"data/test_x\", \"rb\") as fp:\n",
    "    test_x = pickle.load(fp)\n",
    "with open(\"data/test_ys\", \"rb\") as fp:\n",
    "    test_ys = pickle.load(fp)\n",
    "with open(\"data/test_yp\", \"rb\") as fp:\n",
    "    test_yp = pickle.load(fp)\n",
    "with open(\"data/test_yn\", \"rb\") as fp:\n",
    "    test_yn = pickle.load(fp)"
   ]
  },
  {
   "cell_type": "code",
   "execution_count": 4,
   "metadata": {},
   "outputs": [],
   "source": [
    "train_x_n = [np.ndarray.tolist(train_x[0][0][0].asnumpy())]\n",
    "for l in range(1,len(train_x)):\n",
    "    train_x_n.append(np.ndarray.tolist(train_x[l][0][0].asnumpy()))"
   ]
  },
  {
   "cell_type": "code",
   "execution_count": 7,
   "metadata": {},
   "outputs": [
    {
     "data": {
      "text/plain": [
       "SVC(C=1.0, cache_size=200, class_weight=None, coef0=0.0,\n",
       "  decision_function_shape='ovr', degree=3, gamma='scale', kernel='rbf',\n",
       "  max_iter=-1, probability=False, random_state=None, shrinking=True,\n",
       "  tol=0.001, verbose=False)"
      ]
     },
     "execution_count": 7,
     "metadata": {},
     "output_type": "execute_result"
    }
   ],
   "source": [
    "from sklearn import svm\n",
    "clf = svm.SVC(gamma='scale')\n",
    "clf.fit(train_x_n, train_ys)"
   ]
  },
  {
   "cell_type": "code",
   "execution_count": 8,
   "metadata": {},
   "outputs": [],
   "source": [
    "test_x_n = [np.ndarray.tolist(test_x[0][0][0].asnumpy())]\n",
    "for l in range(1,len(test_x)):\n",
    "    test_x_n.append(np.ndarray.tolist(test_x[l][0][0].asnumpy()))"
   ]
  },
  {
   "cell_type": "code",
   "execution_count": 13,
   "metadata": {},
   "outputs": [],
   "source": [
    "pred = clf.predict(test_x_n)"
   ]
  },
  {
   "cell_type": "code",
   "execution_count": 18,
   "metadata": {},
   "outputs": [],
   "source": [
    "num_correct = 0\n",
    "for p in range(len(pred)):\n",
    "    if pred[p] == test_ys[p]:\n",
    "        num_correct = num_correct + 1\n",
    "accuracy = num_correct/len(pred)"
   ]
  },
  {
   "cell_type": "code",
   "execution_count": 19,
   "metadata": {},
   "outputs": [
    {
     "name": "stdout",
     "output_type": "stream",
     "text": [
      "0.6890173410404624\n"
     ]
    }
   ],
   "source": [
    "print(accuracy)"
   ]
  },
  {
   "cell_type": "code",
   "execution_count": null,
   "metadata": {},
   "outputs": [],
   "source": []
  }
 ],
 "metadata": {
  "kernelspec": {
   "display_name": "Python 3",
   "language": "python",
   "name": "python3"
  },
  "language_info": {
   "codemirror_mode": {
    "name": "ipython",
    "version": 3
   },
   "file_extension": ".py",
   "mimetype": "text/x-python",
   "name": "python",
   "nbconvert_exporter": "python",
   "pygments_lexer": "ipython3",
   "version": "3.7.1"
  }
 },
 "nbformat": 4,
 "nbformat_minor": 2
}
