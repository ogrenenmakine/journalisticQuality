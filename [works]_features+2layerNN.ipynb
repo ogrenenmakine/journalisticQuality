{
 "cells": [
  {
   "cell_type": "code",
   "execution_count": null,
   "metadata": {},
   "outputs": [],
   "source": [
    "from __future__ import print_function\n",
    "\n",
    "import logging\n",
    "import random\n",
    "\n",
    "import mxnet as mx\n",
    "import numpy as np\n",
    "from sklearn.datasets import fetch_mldata\n",
    "from sklearn.decomposition import PCA\n",
    "import pickle\n",
    "import numpy as np\n",
    "\n",
    "logger = logging.getLogger()\n",
    "logger.setLevel(logging.DEBUG)\n",
    "\n",
    "np.random.seed(1234) # set seed for deterministic ordering\n",
    "mx.random.seed(1234)\n",
    "random.seed(1234)"
   ]
  },
  {
   "cell_type": "code",
   "execution_count": null,
   "metadata": {},
   "outputs": [],
   "source": [
    "with open(\"data/train_x\", \"rb\") as fp:\n",
    "    train_x = pickle.load(fp)\n",
    "with open(\"data/train_ys\", \"rb\") as fp:\n",
    "    train_ys = pickle.load(fp)\n",
    "with open(\"data/train_yp\", \"rb\") as fp:\n",
    "    train_yp = pickle.load(fp)\n",
    "with open(\"data/train_yn\", \"rb\") as fp:\n",
    "    train_yn = pickle.load(fp)"
   ]
  },
  {
   "cell_type": "code",
   "execution_count": null,
   "metadata": {},
   "outputs": [],
   "source": [
    "with open(\"data/test_x\", \"rb\") as fp:\n",
    "    test_x = pickle.load(fp)\n",
    "with open(\"data/test_ys\", \"rb\") as fp:\n",
    "    test_ys = pickle.load(fp)\n",
    "with open(\"data/test_yp\", \"rb\") as fp:\n",
    "    test_yp = pickle.load(fp)\n",
    "with open(\"data/test_yn\", \"rb\") as fp:\n",
    "    test_yn = pickle.load(fp)"
   ]
  },
  {
   "cell_type": "code",
   "execution_count": null,
   "metadata": {},
   "outputs": [],
   "source": [
    "X_train = train_x[0][0].asnumpy()\n",
    "for l in range(1,len(train_x)):\n",
    "    X_train = np.concatenate((X_train,train_x[l][0].asnumpy()),axis=0)"
   ]
  },
  {
   "cell_type": "code",
   "execution_count": null,
   "metadata": {},
   "outputs": [],
   "source": [
    "X_test = test_x[0][0].asnumpy()\n",
    "for l in range(1,len(test_x)):\n",
    "    X_test = np.concatenate((X_test,test_x[l][0].asnumpy()),axis=0)"
   ]
  },
  {
   "cell_type": "code",
   "execution_count": null,
   "metadata": {},
   "outputs": [],
   "source": [
    "Y_train = np.stack(train_ys)\n",
    "train_yp = np.stack(train_yp)\n",
    "train_yn = np.stack(train_yn)\n",
    "Y_test = np.stack(test_ys)\n",
    "test_yp = np.stack(test_yp)\n",
    "test_yn = np.stack(test_yn)"
   ]
  },
  {
   "cell_type": "code",
   "execution_count": null,
   "metadata": {},
   "outputs": [],
   "source": [
    "# Network declaration as symbols. The following pattern was based\n",
    "# on the article, but feel free to play with the number of nodes\n",
    "# and with the activation function\n",
    "data = mx.symbol.Variable('data')\n",
    "fc1  = mx.symbol.FullyConnected(data = data, name='fc1', num_hidden=512)\n",
    "act1 = mx.symbol.Activation(data = fc1, name='relu1', act_type=\"relu\")\n",
    "fc2  = mx.symbol.FullyConnected(data = act1, name = 'fc2', num_hidden = 512)\n",
    "act2 = mx.symbol.Activation(data = fc2, name='relu2', act_type=\"relu\")\n",
    "fc3  = mx.symbol.FullyConnected(data = act2, name='fc3', num_hidden=2)\n",
    "\n",
    "# Here we add the ultimate layer based on L2-SVM objective\n",
    "mlp_svm_l2 = mx.symbol.SVMOutput(data=fc3, name='svm_l2')\n",
    "\n",
    "# With L1-SVM objective\n",
    "mlp_svm_l1 = mx.symbol.SVMOutput(data=fc3, name='svm_l1', use_linear=True)\n",
    "\n",
    "# Compare with softmax cross entropy loss\n",
    "mlp_softmax = mx.symbol.SoftmaxOutput(data=fc3, name='softmax')"
   ]
  },
  {
   "cell_type": "code",
   "execution_count": null,
   "metadata": {},
   "outputs": [],
   "source": [
    "batch_size = 200\n",
    "ctx = mx.gpu() if mx.context.num_gpus() > 0 else mx.cpu()"
   ]
  },
  {
   "cell_type": "code",
   "execution_count": null,
   "metadata": {},
   "outputs": [],
   "source": [
    "results = {}\n",
    "for output in [mlp_svm_l2, mlp_svm_l1, mlp_softmax]:\n",
    "    \n",
    "    print(\"\\nTesting with %s \\n\" % output.name)\n",
    "    \n",
    "    label = output.name + \"_label\"\n",
    "    \n",
    "    train_iter = mx.io.NDArrayIter(X_train, Y_train, batch_size=batch_size, label_name=label)\n",
    "    test_iter = mx.io.NDArrayIter(X_test, Y_test, batch_size=batch_size, label_name=label)\n",
    "\n",
    "    # Here we instatiate and fit the model for our data\n",
    "    # The article actually suggests using 400 epochs,\n",
    "    # But I reduced to 10, for convenience\n",
    "\n",
    "    mod = mx.mod.Module(\n",
    "        context = ctx, \n",
    "        symbol = output,         # Use the network we just defined\n",
    "        label_names = [label],\n",
    "    )\n",
    "    mod.fit(\n",
    "        train_data=train_iter,\n",
    "        eval_data=test_iter,  # Testing data set. MXNet computes scores on test set every epoch\n",
    "        batch_end_callback = mx.callback.Speedometer(batch_size, 200),  # Logging module to print out progress\n",
    "        num_epoch = 10,       # Train for 10 epochs\n",
    "        optimizer_params = {\n",
    "            'learning_rate': 0.1,  # Learning rate\n",
    "            'momentum': 0.9,       # Momentum for SGD with momentum\n",
    "            'wd': 0.00001,         # Weight decay for regularization\n",
    "        })\n",
    "    results[output.name] = mod.score(test_iter, mx.metric.Accuracy())[0][1]*100\n",
    "    print('Accuracy for %s:'%output.name, mod.score(test_iter, mx.metric.Accuracy())[0][1]*100, '%\\n')\n",
    "    \n",
    "for key, value in results.items():\n",
    "    print(key, value, \"%s\")"
   ]
  },
  {
   "cell_type": "code",
   "execution_count": null,
   "metadata": {},
   "outputs": [],
   "source": []
  }
 ],
 "metadata": {
  "kernelspec": {
   "display_name": "Python 3",
   "language": "python",
   "name": "python3"
  },
  "language_info": {
   "codemirror_mode": {
    "name": "ipython",
    "version": 3
   },
   "file_extension": ".py",
   "mimetype": "text/x-python",
   "name": "python",
   "nbconvert_exporter": "python",
   "pygments_lexer": "ipython3",
   "version": "3.7.1"
  }
 },
 "nbformat": 4,
 "nbformat_minor": 2
}
