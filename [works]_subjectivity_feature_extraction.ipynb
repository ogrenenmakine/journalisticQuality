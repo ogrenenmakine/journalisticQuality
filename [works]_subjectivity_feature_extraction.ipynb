{
 "cells": [
  {
   "cell_type": "code",
   "execution_count": 1,
   "metadata": {},
   "outputs": [],
   "source": [
    "import warnings\n",
    "warnings.filterwarnings('ignore')\n",
    "\n",
    "import glob\n",
    "import time\n",
    "import math\n",
    "import numpy as np\n",
    "\n",
    "import mxnet as mx\n",
    "from mxnet import gluon, autograd\n",
    "from mxnet.gluon.utils import download\n",
    "\n",
    "import gluonnlp as nlp"
   ]
  },
  {
   "cell_type": "code",
   "execution_count": 2,
   "metadata": {},
   "outputs": [],
   "source": [
    "context = mx.cpu()\n",
    "batch_size = 1\n",
    "bptt = 35"
   ]
  },
  {
   "cell_type": "code",
   "execution_count": 3,
   "metadata": {},
   "outputs": [],
   "source": [
    "dataset_name = 'wikitext-2'\n",
    "train_dataset, val_dataset, test_dataset = [\n",
    "    nlp.data.WikiText2(\n",
    "        segment=segment, bos=None, eos='<eos>', skip_empty=False)\n",
    "    for segment in ['train', 'val', 'test']\n",
    "]\n",
    "\n",
    "vocab = nlp.Vocab(\n",
    "    nlp.data.Counter(train_dataset), padding_token=None, bos_token=None)"
   ]
  },
  {
   "cell_type": "code",
   "execution_count": 4,
   "metadata": {},
   "outputs": [],
   "source": [
    "train_dataset = nlp.data.TSVDataset('data/train.csv', num_discard_samples=1)\n",
    "test_dataset = nlp.data.TSVDataset('data/test.csv', num_discard_samples=1)"
   ]
  },
  {
   "cell_type": "code",
   "execution_count": 5,
   "metadata": {},
   "outputs": [
    {
     "name": "stdout",
     "output_type": "stream",
     "text": [
      "AWDRNN(\n",
      "  (embedding): HybridSequential(\n",
      "    (0): Embedding(33278 -> 400, float32)\n",
      "    (1): Dropout(p = 0.65, axes=(0,))\n",
      "  )\n",
      "  (encoder): Sequential(\n",
      "    (0): LSTM(400 -> 1150, TNC)\n",
      "    (1): LSTM(1150 -> 1150, TNC)\n",
      "    (2): LSTM(1150 -> 400, TNC)\n",
      "  )\n",
      "  (decoder): HybridSequential(\n",
      "    (0): Dense(400 -> 33278, linear)\n",
      "  )\n",
      ")\n",
      "Vocab(size=33278, unk=\"<unk>\", reserved=\"['<eos>']\")\n"
     ]
    }
   ],
   "source": [
    "awd_model_name = 'awd_lstm_lm_1150'\n",
    "model, vocab = nlp.model.get_model(\n",
    "    awd_model_name,\n",
    "    vocab=vocab,\n",
    "    dataset_name=dataset_name,\n",
    "    pretrained=True,\n",
    "    ctx=context)\n",
    "loss = gluon.loss.SoftmaxCrossEntropyLoss()\n",
    "print(model)\n",
    "print(vocab)"
   ]
  },
  {
   "cell_type": "code",
   "execution_count": 6,
   "metadata": {},
   "outputs": [],
   "source": [
    "X = []; ys = []; yp = []; yn = []\n",
    "for i, (data, subj, pos, neg) in enumerate(train_dataset):\n",
    "    hidden = model.begin_state(batch_size=batch_size, func=mx.nd.zeros, ctx=context)\n",
    "    myarray = mx.nd.expand_dims(mx.nd.array(np.asarray(vocab.to_indices(data.split()))),axis=1)\n",
    "    output, hidden = model(myarray, hidden)\n",
    "    X.append(hidden[-1][-1])\n",
    "    ys.append(int(int(subj) < 2))\n",
    "    yp.append(int(int(pos) < 2))\n",
    "    yn.append(int(int(neg) < 2))"
   ]
  },
  {
   "cell_type": "code",
   "execution_count": 7,
   "metadata": {},
   "outputs": [],
   "source": [
    "import pickle\n",
    "with open(\"data/train_x\", \"wb\") as fp:\n",
    "    pickle.dump(X, fp)\n",
    "with open(\"data/train_ys\", \"wb\") as fp:\n",
    "    pickle.dump(ys, fp)\n",
    "with open(\"data/train_yp\", \"wb\") as fp:\n",
    "    pickle.dump(yp, fp)\n",
    "with open(\"data/train_yn\", \"wb\") as fp:\n",
    "    pickle.dump(yn, fp)"
   ]
  },
  {
   "cell_type": "code",
   "execution_count": 8,
   "metadata": {},
   "outputs": [],
   "source": [
    "X = []; ys = []; yp = []; yn = []\n",
    "for i, (data, subj, pos, neg) in enumerate(test_dataset):\n",
    "    hidden = model.begin_state(batch_size=batch_size, func=mx.nd.zeros, ctx=context)\n",
    "    myarray = mx.nd.expand_dims(mx.nd.array(np.asarray(vocab.to_indices(data.split()))),axis=1)\n",
    "    output, hidden = model(myarray, hidden)\n",
    "    X.append(hidden[-1][-1])\n",
    "    ys.append(int(int(subj) < 2))\n",
    "    yp.append(int(int(pos) < 2))\n",
    "    yn.append(int(int(neg) < 2))"
   ]
  },
  {
   "cell_type": "code",
   "execution_count": 9,
   "metadata": {},
   "outputs": [],
   "source": [
    "import pickle\n",
    "with open(\"data/test_x\", \"wb\") as fp:\n",
    "    pickle.dump(X, fp)\n",
    "with open(\"data/test_ys\", \"wb\") as fp:\n",
    "    pickle.dump(ys, fp)\n",
    "with open(\"data/test_yp\", \"wb\") as fp:\n",
    "    pickle.dump(yp, fp)\n",
    "with open(\"data/test_yn\", \"wb\") as fp:\n",
    "    pickle.dump(yn, fp)"
   ]
  },
  {
   "cell_type": "code",
   "execution_count": null,
   "metadata": {},
   "outputs": [],
   "source": []
  }
 ],
 "metadata": {
  "kernelspec": {
   "display_name": "Python 3",
   "language": "python",
   "name": "python3"
  },
  "language_info": {
   "codemirror_mode": {
    "name": "ipython",
    "version": 3
   },
   "file_extension": ".py",
   "mimetype": "text/x-python",
   "name": "python",
   "nbconvert_exporter": "python",
   "pygments_lexer": "ipython3",
   "version": "3.7.1"
  }
 },
 "nbformat": 4,
 "nbformat_minor": 2
}
